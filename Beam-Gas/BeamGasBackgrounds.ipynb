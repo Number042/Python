{
 "cells": [
  {
   "cell_type": "code",
   "execution_count": 51,
   "metadata": {},
   "outputs": [
    {
     "name": "stdout",
     "output_type": "stream",
     "text": [
      " --- constants: \n",
      " 1.38064852e-23 1.0545718001391127e-34 0.0072973525664 3.141592653589793 299792458.0\n",
      "/home/mlueckhof/Python/FCCee-Synchrotron-Radiation/source\n"
     ]
    },
    {
     "data": {
      "text/html": [
       "<style>.container { width:100% !important; }</style>"
      ],
      "text/plain": [
       "<IPython.core.display.HTML object>"
      ]
     },
     "metadata": {},
     "output_type": "display_data"
    },
    {
     "name": "stdout",
     "output_type": "stream",
     "text": [
      "---- Beam Parameters b1 ---- \n",
      "  Beam energy = 45.6 with 16640 bunches/beam\n",
      " Brho = 152.1064745321725 \n",
      " Lorentz gamma = 89236.79060665364 \n",
      " def pressure p_0 = 1e-08 \n",
      " rho_m = 2414324344716.883 \n",
      " ----------------------------- \n"
     ]
    }
   ],
   "source": [
    "# import general libs (probably not required)\n",
    "#\n",
    "import matplotlib as mpl\n",
    "import matplotlib.pyplot as plt \n",
    "from numpy import log, log10, log2\n",
    "import pandas as pd\n",
    "from os.path import expanduser\n",
    "from IPython.core.display import display, HTML\n",
    "from scipy.constants import k, hbar, alpha, pi, speed_of_light, elementary_charge, m_e, physical_constants, N_A\n",
    "print( \" --- constants: \\n\", k, hbar, alpha, pi, speed_of_light)\n",
    "# change to source dir to import specific stuff\n",
    "#\n",
    "%cd ~/Python/FCCee-Synchrotron-Radiation/source/\n",
    "import VisualSpecs\n",
    "from TfsTables import TfsReader, PlotOptics \n",
    "from DF_Tools import OutputToDF\n",
    "from Input import checkRing\n",
    "from Tools import sbplSetUp\n",
    "\n",
    "\n",
    "# temporarily disable the SetCopies warning:\n",
    "# pd.options.mode.chained_assignment = None\n",
    "\n",
    "# %reload_ext autoreload\n",
    "\n",
    "# %aimport TfsTables, Input, OpticsSelectTools, Plot, PlotSetup\n",
    "\n",
    "# %autoreload 1\n",
    "%matplotlib inline\n",
    "\n",
    "home = expanduser(\"~\")\n",
    "plotpath = \"/tmp/\"\n",
    "\n",
    "display(HTML(\"<style>.container { width:100% !important; }</style>\"))\n",
    "\n",
    "# some constants\n",
    "# beam energy [GeV]\n",
    "E0 = 45.6\n",
    "if E0 == 45.6:\n",
    "    Nbun = 16640\n",
    "elif E0 == 182.5:\n",
    "    Nbun = 48\n",
    "Lrnt = E0/511e-6\n",
    "brho = 10*E0/2.9979\n",
    "particle = \"positron\"\n",
    "T = 300\n",
    "P0 = 10e-9 # default pressure, [Pa]\n",
    "rhoM = P0/(k*T)\n",
    "r_e = physical_constants['classical electron radius'][0]\n",
    "print(\"---- Beam Parameters b1 ---- \\n\", \" Beam energy =\", E0, 'with', Nbun, 'bunches/beam'\n",
    "      \"\\n Brho =\", brho, \"\\n Lorentz gamma =\", Lrnt, \n",
    "      \"\\n def pressure p_0 =\", P0, \"\\n rho_m =\", rhoM, \"\\n ----------------------------- \" )"
   ]
  },
  {
   "cell_type": "code",
   "execution_count": 98,
   "metadata": {},
   "outputs": [
    {
     "name": "stderr",
     "output_type": "stream",
     "text": [
      "/usr/lib/python3.7/site-packages/IPython/core/interactiveshell.py:3185: DtypeWarning: Columns (3,4,5,6,7,8,9,10,11,12,13,14,15,16,17,18,19,20,21,22,23,24,25,26,27,28,29,30,32,33,34,35,36,37,38,39,40,41,42,43,44,45,46,47,48,49,50,51,52,53,54,55,56,57,58,59,60,61,62,63,64,65,66,67,68,69,70,71,72,73,74,75,76,77,78,79,80) have mixed types. Specify dtype option on import or set low_memory=False.\n",
      "  if (yield from self.run_code(code, result)):\n",
      "/home/mlueckhof/Python/FCCee-Synchrotron-Radiation/source/TfsTables.py:34: FutureWarning: convert_objects is deprecated.  To re-infer data dtypes for object columns, use DataFrame.infer_objects()\n",
      "For all other conversions use the data-type specific converters pd.to_datetime, pd.to_timedelta and pd.to_numeric.\n",
      "  df = df.convert_objects(convert_numeric = True)\n"
     ]
    },
    {
     "name": "stdout",
     "output_type": "stream",
     "text": [
      " Add column 'rel_S' -- S position shifted with IP in the center. Using Lmax =  97756.06428318677\n"
     ]
    }
   ],
   "source": [
    "MAD_Twiss = TfsReader( home + '/Codes/Projects/FCC-ee-lattice/MadX/output/' + str(E0) + '/fcc_ee_b1_twiss.tfs' ).read_twiss( verbose = 0, relS = 1) "
   ]
  },
  {
   "cell_type": "markdown",
   "metadata": {},
   "source": [
    "## Elastic Scattering\n",
    "\n",
    "### Cross-section\n",
    "The beam-gas elastic scattering can be described according to Rutherford scattering, which is extended to Mott scattering in case of relativistic particles. $$ \\begin{equation}\n",
    "    \\frac{d\\sigma_{Mott}}{d\\Omega} = \\left( \\frac{Z\\alpha\\hbar c}{2pv} \\right)^2\\frac{1 - \\beta^2\\sin^2\\frac{\\theta}{2}}{\\sin^4\\frac{\\theta}{2}} \\end{equation} $$ \n",
    "As this cross estion diverges with $\\theta\\rightarrow0$, the integration to find the total cross section is only done from a certain $\\theta_{min}$, leading to:\n",
    "$$ \\sigma_{Mott}(\\theta_{min}) = \\pi(\\alpha\\hbar c)^2\\left(\\frac{Z}{E_{beam}}\\right)^2\\left[\\frac{1}{1 - \\cos\\theta_{min}} - \\cos\\theta_{min} - \\ln(1 - \\cos\\theta_{min}) \\right]$$\n",
    "Considering only very small angles $\\theta_{min}$, the first term in the brackets becomes dominating. Further simplifying with $\\hbar c = 3.8927\\cdot10^{-4} barn GeV^2$"
   ]
  },
  {
   "cell_type": "code",
   "execution_count": 99,
   "metadata": {},
   "outputs": [],
   "source": [
    "# total CS\n",
    "#\n",
    "def RthCS(Z, xmin, xmax):\n",
    "    return pi*(2*Z*elementary_charge**2/(Lrnt*m_e*speed_of_light**2))**2*(1/xmin**2 - 1/(xmin**2 + xmax**2)**2)\n",
    "\n",
    "def RthUnscrrened( Z ):\n",
    "    return 4*pi*alpha**2*3.8927e-4*(Z/E0)**2*1/(45e-6**2)*1e-28\n",
    "\n",
    "def ThetMin(Z):\n",
    "    return Z**(1/3)/(192*Lrnt)\n",
    "\n",
    "# for comparison: Mott CS\n",
    "#\n",
    "def MottCS(Z, E0, xmin):\n",
    "    return 6.5124e-8*(Z/E0)**2*(1/(1 - np.cos(xmin)))"
   ]
  },
  {
   "cell_type": "markdown",
   "metadata": {},
   "source": [
    "### Angluar Dependence\n",
    "Look at Rutherford cross sections considering non corrected and corrected case. The uncorrected case scales as $\\theta^{-4}$, whereas the corrected description includes a cut off angle $\\theta_{min}$:\n",
    "$$\\begin{equation}\n",
    "    \\frac{d\\sigma}{d\\Omega} \\approx \\left( \\frac{2Ze^2}{\\gamma m_0c^2} \\right)^2\\frac{1}{\\left( \\theta^2 + \\theta_{min}^2 \\right)^2}\n",
    "\\end{equation} $$\n"
   ]
  },
  {
   "cell_type": "code",
   "execution_count": 100,
   "metadata": {
    "scrolled": false
   },
   "outputs": [
    {
     "data": {
      "image/png": "[encoded data removed]",
      "text/plain": [
       "<Figure size 720x432 with 1 Axes>"
      ]
     },
     "metadata": {
      "needs_background": "light"
     },
     "output_type": "display_data"
    }
   ],
   "source": [
    "# small angle approximation\n",
    "#\n",
    "def RthDef(x, Z):\n",
    "    return (2*Z*elementary_charge**2/(Lrnt*m_e*speed_of_light**2))**2*1/x**4\n",
    "\n",
    "# considering also large and very small angles\n",
    "#\n",
    "def RthCrr(x, Z, a):\n",
    "    return (2*Z*elementary_charge**2/(Lrnt*m_e*speed_of_light**2))**2*1/(x**2 + a**2)**2\n",
    "\n",
    "AngRng = np.arange(5e-8,1e-4,1e-8)\n",
    "plt.figure( figsize = (10,6) )\n",
    "plt.plot(AngRng, RthDef(AngRng, 7), label = '$1/\\\\theta^4$')\n",
    "plt.plot(AngRng, RthCrr(AngRng, 7, 5.8e-6), label = '$1/(\\\\theta^2 + \\\\theta_{min}^2)^2$') ## a: 45e-6\n",
    "plt.xlim(5e-8,1e-4); plt.xscale('log'); plt.yscale('log')\n",
    "plt.ylim(1e-40,2e-36); plt.legend();\n",
    "plt.xlabel('$\\\\theta$ [rad]'); plt.ylabel('$d\\\\sigma/d\\\\Omega$');\n",
    "# plt.savefig(plotpath + \"compareRuthCS.pdf\")"
   ]
  },
  {
   "cell_type": "markdown",
   "metadata": {},
   "source": [
    "### Beam Divergence\n",
    "Expressed as $\\sqrt{\\epsilon/\\beta}$, this observable can give an impression on the limits on scattering angles that have to be considered. Angles much smaller than the beam divergence don't have to be included in the analysis."
   ]
  },
  {
   "cell_type": "markdown",
   "metadata": {},
   "source": [
    "### LEP\n",
    "Using the parameters from LEP runnings, try to confirm the estimate of $1\\mu rad$ beam divergence."
   ]
  },
  {
   "cell_type": "code",
   "execution_count": 101,
   "metadata": {},
   "outputs": [
    {
     "name": "stdout",
     "output_type": "stream",
     "text": [
      "[6.51920241e-05 8.24621125e-05 1.01980390e-04 1.52752523e-04]\n"
     ]
    }
   ],
   "source": [
    "# beta at the IP for the years 94 to 97\n",
    "#\n",
    "betxSt = np.array( [2, 2.5, 2.5, 1.5] )\n",
    "betySt = np.array( [5e-2, 5e-2, 5e-2, 5e-2] )\n",
    "E = np.array( [45.6, 65, 80.5, 92] )\n",
    "emtX = np.array( [8.5e-9, 17e-9, 26e-9, 35e-9] )\n",
    "divgX = np.sqrt(emtX/betxSt)\n",
    "print(divgX)"
   ]
  },
  {
   "cell_type": "code",
   "execution_count": 102,
   "metadata": {},
   "outputs": [],
   "source": [
    "horDvg = np.array( [4.2e-05, 6.5e-05, 4.6e-05, 3.8e-05] )   \n",
    "vrtDvg = np.array( [3.2e-05, 4.6e-05, 3.6e-05, 4.3e-05] )\n",
    "\n"
   ]
  },
  {
   "cell_type": "markdown",
   "metadata": {},
   "source": [
    "###  Lifetime Estimates\n",
    "As FCC-ee is a considered to operate at very high energies, the cross section for elastic scattering can be expected to be quite low. \n",
    "For an estimate on the lifetime, the worst case is assumed, being a 100% loss on scattered particles.\n",
    "The lifetime is therefore calculated according to $$ \\frac{1}{\\tau} = \\beta c \\rho_m\\sigma, $$\n",
    "where the particle speed is close to c: $\\beta = 1$."
   ]
  },
  {
   "cell_type": "code",
   "execution_count": 103,
   "metadata": {},
   "outputs": [
    {
     "name": "stdout",
     "output_type": "stream",
     "text": [
      "cross section at 45.6 = 3.0313272600562896e-28 1/m2 <=> 3.0313272600562895\n",
      "lifetime [s] = 4499262.591143652 \n",
      " lifetime [h] = 1249.79516420657\n"
     ]
    }
   ],
   "source": [
    "# lifetime estimate\n",
    "#\n",
    "def tau(sigma):\n",
    "    return 1/(speed_of_light*sigma*rhoM) \n",
    "\n",
    "sigma = RthUnscrrened(7)\n",
    "print( \"cross section at\", E0, \"=\", sigma, \"1/m2 <=>\", sigma/1e-28 )\n",
    "print( \"lifetime [s] =\", tau(sigma), \"\\n lifetime [h] =\", tau(sigma)/3600 ) "
   ]
  },
  {
   "cell_type": "markdown",
   "metadata": {},
   "source": [
    "## Inelastic Scattering\n",
    "Interesting for high energy applications: inelastic scattering of electrons off the field of a nucleus. It induces both, change in momentum direction and energy loss by photon radiation. The cross section for high energy eN scattering can be approximated as \n",
    "$$ \\begin{equation} \\sigma_{eN} = 4\\alpha r_e^2Z(Z+1)\\log\\left(\\frac{287}{\\sqrt{Z}}\\right)\\left( -\\frac{4}{3}\\log k_{min} - \\frac{5}{6} + \\frac{4}{3}k_{min} - \\frac{k_{min}^2}{2} \\right) \\end{equation} $$\n",
    "In case of N$_2$, the resulting cross section is multiplied by the number of N atoms in the compound. "
   ]
  },
  {
   "cell_type": "code",
   "execution_count": 13,
   "metadata": {},
   "outputs": [],
   "source": [
    "# the CS\n",
    "#\n",
    "def sigmaBrems(Z, k):\n",
    "    return 4*alpha*r_e**2*Z*(Z+1)*log(287/np.sqrt(Z))*( -4/3*log(k) - 5/6 + 4/3*k - k**2/2 ) \n",
    "def sigmaBrems2(k):\n",
    "    return A/(N_A*X0)*( -4/3*log(k) - 5/6 + 4/3*k - k**2/2 )"
   ]
  },
  {
   "cell_type": "code",
   "execution_count": 25,
   "metadata": {},
   "outputs": [
    {
     "name": "stdout",
     "output_type": "stream",
     "text": [
      "3.0456054995885553e-24\n",
      "2% energy loss, N2: sigma_eN [barn] = 5.364315546183447\n",
      "2% energy loss, N2: sigma_eN [barn] = 9.31428523783414\n"
     ]
    }
   ],
   "source": [
    "A = 14.0067; X0 = 37.9879\n",
    "print( sigmaBrems2(0.013) )\n",
    "print( '2% energy loss, N2: sigma_eN [barn] =', 2*sigmaBrems(7, 0.02)/1e-28)\n",
    "print( '2% energy loss, N2: sigma_eN [barn] =', sigmaBrems(14, 0.02)/1e-28)"
   ]
  },
  {
   "cell_type": "markdown",
   "metadata": {},
   "source": [
    "### Beam-Gas Paper: analytic estimate\n",
    "For a benchmark approach, results from MDISim have been compared with the following cross section (average arc cell):\n",
    "$$ \\begin{equation} \\sigma = 4r_e^2\\frac{Z^2}{137}\\frac{4}{3}\\ln\\frac{183}{Z^(1/3)}\\left( \\ln\\frac{1}{\\epsilon_{RF}} - \\frac{5}{8} \\right) \\end{equation} $$ "
   ]
  },
  {
   "cell_type": "code",
   "execution_count": 36,
   "metadata": {},
   "outputs": [],
   "source": [
    "# define the CS above to cross check the numbers reported in the paper\n",
    "#\n",
    "def sigmat2(Z, eps):\n",
    "    return 4*r_e**2*Z**2/137*4/3*log(183/Z**(1/3))*(log(1/eps) - 5/8)"
   ]
  },
  {
   "cell_type": "code",
   "execution_count": 52,
   "metadata": {},
   "outputs": [
    {
     "data": {
      "text/plain": [
       "19070.764067978962"
      ]
     },
     "execution_count": 52,
     "metadata": {},
     "output_type": "execute_result"
    }
   ],
   "source": [
    "rate = sigmaBrems(14, 0.02)*rhoM*speed_of_light*Nbun*1.7e11/100000\n",
    "rate"
   ]
  }
 ],
 "metadata": {
  "kernelspec": {
   "display_name": "Python 3",
   "language": "python",
   "name": "python3"
  },
  "language_info": {
   "codemirror_mode": {
    "name": "ipython",
    "version": 3
   },
   "file_extension": ".py",
   "mimetype": "text/x-python",
   "name": "python",
   "nbconvert_exporter": "python",
   "pygments_lexer": "ipython3",
   "version": "3.7.4"
  }
 },
 "nbformat": 4,
 "nbformat_minor": 2
}
