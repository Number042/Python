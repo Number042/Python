{
 "cells": [
  {
   "cell_type": "markdown",
   "metadata": {},
   "source": [
    "# Event Generator for Thermal Photon Scattering"
   ]
  },
  {
   "cell_type": "code",
   "execution_count": 1,
   "metadata": {},
   "outputs": [
    {
     "name": "stdout",
     "output_type": "stream",
     "text": [
      "/home/mlueckhof/Python/FCCee-Synchrotron-Radiation/source\n"
     ]
    },
    {
     "data": {
      "text/html": [
       "<style>.container { width:100% !important; }</style>"
      ],
      "text/plain": [
       "<IPython.core.display.HTML object>"
      ]
     },
     "metadata": {},
     "output_type": "display_data"
    },
    {
     "name": "stdout",
     "output_type": "stream",
     "text": [
      " ------------- \n",
      " beam energy =  182.4999999992846 GeV \n",
      " m0 =  0.000511 \n",
      " gamma =  357142.85714145715 \n",
      " beta = 0.99999999999608 \n",
      " Npart = 10000000 type <class 'numpy.int32'> \n",
      " -------------\n"
     ]
    }
   ],
   "source": [
    "import matplotlib.pyplot as plt \n",
    "from numpy import genfromtxt, int32, sqrt, set_printoptions, array\n",
    "from pandas import read_csv, read_table\n",
    "# import math\n",
    "import random as rnd\n",
    "from os.path import expanduser\n",
    "from IPython.core.display import display, HTML\n",
    "\n",
    "# path to own sources\n",
    "%cd ~/Python/FCCee-Synchrotron-Radiation/source/\n",
    "\n",
    "%load_ext autoreload\n",
    "%autoreload 1\n",
    "\n",
    "import Tools as Tls\n",
    "# %aimport BeamGen as Bm\n",
    "from BeamGen import Beam\n",
    "from Generators import genPlanck, cmpt, genCompt\n",
    "# from CS_to_EU import fourMom2, RotFrmZ, getRotVec3, RotToZ\n",
    "import VisualSpecs\n",
    "from ThrmlPht import Scatter\n",
    "\n",
    "display(HTML(\"<style>.container { width:100% !important; }</style>\"))\n",
    "\n",
    "# set print ouptut to 16 digits\n",
    "set_printoptions(formatter={'float': lambda x: \"{0:0.16f}\".format(x)})\n",
    "\n",
    "home = expanduser('~')\n",
    "labels = ['E', '$p_x$', '$p_y$', '$p_z$']\n",
    "\n",
    "m0 = 511e-6 # electron rest mass [GeV]\n",
    "\n",
    "\n",
    "stats = int32(1e7)\n",
    "plotPath = '/tmp/'\n",
    "pc = 182.50 # GeV/c\n",
    "Eb = sqrt(pc**2 - (m0)**2)\n",
    "HalfCross = 0.015\n",
    "LrntzF = Eb/m0\n",
    "T = 296.15 # 0° -- 273.15 K\n",
    "beta = sqrt(1 - 1/LrntzF**2)\n",
    "print(\" ------------- \\n beam energy = \", Eb, \"GeV \\n m0 = \", m0, \"\\n gamma = \", LrntzF, \"\\n beta =\", beta, \"\\n Npart =\", stats, \"type\", type(stats), \"\\n -------------\")\n",
    "\n",
    "# def fourMom2( vec ):\n",
    "#     return vec[0]**2 - vec[1]**2 - vec[2]**2 - vec[3]**2\n",
    "\n",
    "# def RotFrmZ( theta, phi ):\n",
    "#     return np.array([[1, 0, 0, 0],\n",
    "#                      [0, np.cos(theta)*np.cos(phi), -np.sin(phi), np.cos(phi)*np.sin(theta)],\n",
    "#                      [0, np.cos(theta)*np.sin(phi), np.cos(phi), np.sin(theta)*np.sin(phi)],\n",
    "#                      [0, -np.sin(theta), 0, np.cos(theta)]])\n",
    "\n",
    "# def RotToZ( theta, phi ):\n",
    "#     return np.array([ [1, 0, 0, 0],\n",
    "#                       [0, np.cos(theta)*np.cos(phi), np.cos(theta)*np.sin(phi), -np.sin(theta)],\n",
    "#                       [0, -np.sin(phi), np.cos(phi), 0],\n",
    "#                       [0, np.cos(phi)*np.sin(theta), np.sin(theta)*np.sin(phi), np.cos(theta)] ])\n",
    "\n",
    "# def getRotVec3(vec, verbose = 0):\n",
    "#     cost = vec[2]; theta = np.arccos(cost); sint = np.sin(theta) # np.sqrt(1 - cost**2); \n",
    "#     if verbose: print('cost = ', cost, '--> theta =', theta)\n",
    "    \n",
    "#     # only crosscheck\n",
    "#     if verbose: \n",
    "#         print('sint =', sint, '--> theta =', np.arcsin(sint), ' --> theta =', np.sin(theta))\n",
    "\n",
    "#     sinphi = vec[1]/sint; phi = np.arcsin(sinphi) \n",
    "#     cosphi = vec[0]/sint;\n",
    "# #     if verbose: print('cosphi =', cosphi, '--> phi =', np.arccos(cosphi))\n",
    "#     if verbose: print('sinphi =', sinphi, '--> phi =', np.arcsin(sinphi))\n",
    "#     # only crosscheck\n",
    "#     if verbose: \n",
    "# #         sinphi = vec[1]/sint;\n",
    "# #         print('sinphi =', sinphi, '--> phi =', np.arcsin(sinphi)) \n",
    "#         print('cosphi =', cosphi, '--> phi =', np.arccos(cosphi)) \n",
    "\n",
    "#     return theta, phi"
   ]
  },
  {
   "cell_type": "markdown",
   "metadata": {},
   "source": [
    "## 0. Initial Particles"
   ]
  },
  {
   "cell_type": "markdown",
   "metadata": {},
   "source": [
    "### 0.1 Generate initial Electron\n",
    "The initial electrons are beam particles, therfore might be Gaussian distributed with an average energy of $E_b$. This distribution has to be based on the emittance of the beam, $\\epsilon_{x,y}$. Generate Gaussains for x,x' and y,y'?\n",
    "\n",
    "The electron four momentum can be written as $$ q_p = (E,\\mathbf{p}) = \\begin{bmatrix} E/c \\\\ p_x \\\\ p_y \\\\ p_z \\end{bmatrix} $$\n",
    "Where $p_x$ and $p_y$ can be randomly generated using a Gaussian centered at 0, with a spread based on the emittance: $\\mu = 0, \\sigma = \\sigma_{x,y} $\n",
    "\n",
    "The beam generator below generates the random distributions and returns the vector `dir_EU` for a given set of particles\n",
    "\n",
    "Twiss tables and the beam information is currently built by invoking `buildGeom fcc_ee b1 IP -10 10 -5 0.002 0.015 1` on the command line. This way, the starting position will be in element `QC1L3.2`."
   ]
  },
  {
   "cell_type": "code",
   "execution_count": 5,
   "metadata": {
    "scrolled": false
   },
   "outputs": [
    {
     "name": "stdout",
     "output_type": "stream",
     "text": [
      "energy = 45.6\n",
      "Element, QC1L3.2 at line 14282\n",
      "FromNorm( QC1L3.2 ) = \n",
      " [[19.8444537035253461 0.0000000000000000 0.0000000000000000\n",
      "  0.0000000000000000 0.0000000000000000 0.0000000000000000]\n",
      " [-6.8597178049660190 0.0503919137780221 0.0000000000000000\n",
      "  0.0000000000000000 0.0000000000000000 0.0000000000000000]\n",
      " [0.0000000000000000 0.0000000000000000 67.4941369655457635\n",
      "  0.0000000000000000 0.0000000000000000 0.0000000000000000]\n",
      " [0.0000000000000000 0.0000000000000000 15.9159169726995486\n",
      "  0.0148161017379995 0.0000000000000000 0.0000000000000000]\n",
      " [0.0000000000000000 0.0000000000000000 0.0000000000000000\n",
      "  0.0000000000000000 1.0000000000000000 0.0000000000000000]\n",
      " [0.0000000000000000 0.0000000000000000 0.0000000000000000\n",
      "  0.0000000000000000 0.0000000000000000 1.0000000000000000]]\n",
      "energy = 80\n",
      "Element, QC1L3.2 at line 14282\n",
      "FromNorm( QC1L3.2 ) = \n",
      " [[16.2117633636076270 0.0000000000000000 0.0000000000000000\n",
      "  0.0000000000000000 0.0000000000000000 0.0000000000000000]\n",
      " [-7.0753367749304861 0.0616836045266250 0.0000000000000000\n",
      "  0.0000000000000000 0.0000000000000000 0.0000000000000000]\n",
      " [0.0000000000000000 0.0000000000000000 75.1600945629743222\n",
      "  0.0000000000000000 0.0000000000000000 0.0000000000000000]\n",
      " [0.0000000000000000 0.0000000000000000 16.4738751200641929\n",
      "  0.0133049327015166 0.0000000000000000 0.0000000000000000]\n",
      " [0.0000000000000000 0.0000000000000000 0.0000000000000000\n",
      "  0.0000000000000000 1.0000000000000000 0.0000000000000000]\n",
      " [0.0000000000000000 0.0000000000000000 0.0000000000000000\n",
      "  0.0000000000000000 0.0000000000000000 1.0000000000000000]]\n",
      "energy = 120\n",
      "Element, QC1L3.2 at line 17362\n",
      "FromNorm( QC1L3.2 ) = \n",
      " [[12.3869846276955595 0.0000000000000000 0.0000000000000000\n",
      "  0.0000000000000000 0.0000000000000000 0.0000000000000000]\n",
      " [-5.8067488942851284 0.0807298975542555 0.0000000000000000\n",
      "  0.0000000000000000 0.0000000000000000 0.0000000000000000]\n",
      " [0.0000000000000000 0.0000000000000000 87.0861038129012144\n",
      "  0.0000000000000000 0.0000000000000000 0.0000000000000000]\n",
      " [0.0000000000000000 0.0000000000000000 16.7392987457735032\n",
      "  0.0114828882705378 0.0000000000000000 0.0000000000000000]\n",
      " [0.0000000000000000 0.0000000000000000 0.0000000000000000\n",
      "  0.0000000000000000 1.0000000000000000 0.0000000000000000]\n",
      " [0.0000000000000000 0.0000000000000000 0.0000000000000000\n",
      "  0.0000000000000000 0.0000000000000000 1.0000000000000000]]\n",
      "energy = 182.5\n",
      "Element, QC1L3.2 at line 17391\n",
      "FromNorm( QC1L3.2 ) = \n",
      " [[6.1418429479639132 0.0000000000000000 0.0000000000000000\n",
      "  0.0000000000000000 0.0000000000000000 0.0000000000000000]\n",
      " [-2.3812099140134153 0.1628175791000177 0.0000000000000000\n",
      "  0.0000000000000000 0.0000000000000000 0.0000000000000000]\n",
      " [0.0000000000000000 0.0000000000000000 83.1882372777830881\n",
      "  0.0000000000000000 0.0000000000000000 0.0000000000000000]\n",
      " [0.0000000000000000 0.0000000000000000 1.7921500961606558\n",
      "  0.0120209302748030 0.0000000000000000 0.0000000000000000]\n",
      " [0.0000000000000000 0.0000000000000000 0.0000000000000000\n",
      "  0.0000000000000000 1.0000000000000000 0.0000000000000000]\n",
      " [0.0000000000000000 0.0000000000000000 0.0000000000000000\n",
      "  0.0000000000000000 0.0000000000000000 1.0000000000000000]]\n",
      "Done with looping through energies\n"
     ]
    }
   ],
   "source": [
    "# electrons are taken from the beam. Gaussian distribution based on emittances\n",
    "#\n",
    "energies = []; beamMom = [45.6, 80, 120, 182.5]\n",
    "for pc in beamMom:\n",
    "    print('energy =', pc)\n",
    "    sct = Scatter(home + '/Codes/Projects/FCC-ee-lattice/MadX/output/%s/fcc_ee_b1.dat' %pc, home + '/Codes/Projects/FCC-ee-lattice/MadX/output/%s/fcc_ee_b1_twiss.tfs' %pc, stats, HalfCross, pc, T, verbose = 0 )\n",
    "    sct.genBeam('QC1L3.2') \n",
    "    sct.genPhot()\n",
    "    sct.toREST()\n",
    "    sct.compt()\n",
    "    energies.append(sct.toLAB()[1])\n",
    "print('Done with looping through energies')\n",
    "\n",
    "# b1 = Beam(home + '/Codes/Projects/FCC-ee-lattice/MadX/output/fcc_ee_b1.dat', home + '/Codes/Projects/FCC-ee-lattice/MadX/output/fcc_ee_b1_twiss.tfs', stats, HalfCross, pc)\n",
    "# b1.set_gauss(plotPath)\n",
    "# p_e = b1.gen_BeamMom('QC1L3.2'); \n",
    "\n",
    "# # generate beam energy based on normal distribution (2% acceptance), calculate lorentz gamma and beta\n",
    "# #\n",
    "# Ebeam = b1.gen_BeamEnergy(pc, 0.02*pc)\n",
    "# Gamm = Ebeam/m0\n",
    "# Bet = np.sqrt(1 - 1/Gamm**2)\n",
    "\n",
    "# # calculate momentum (energy - restmass)\n",
    "# #\n",
    "# Pbeam = np.sqrt( Ebeam**2 - m0**2 )\n",
    "\n",
    "# # build incoming electron four-momentum\n",
    "\n",
    "# qe_in = np.array( [ np.array([enrg, pbem*vec[0], pbem*vec[1], pbem*vec[2]]) for vec,enrg,pbem in zip(p_e,Ebeam,Pbeam)] )\n",
    "# qe_in2= [ fourMom2(vec) for vec in qe_in]\n",
    "\n",
    "# # some visualization\n",
    "# #\n",
    "# axs = Tls.sbplSetUp(4)\n",
    "# for j in range(0,4):\n",
    "#     axs[j].hist([mom[j] for mom in qe_in], bins = 100)\n",
    "#     axs[j].set_xlabel(labels[j])\n",
    "# plt.tight_layout()\n",
    "\n",
    "# print(len(p_e))"
   ]
  },
  {
   "cell_type": "code",
   "execution_count": 9,
   "metadata": {},
   "outputs": [
    {
     "data": {
      "image/png": "[encoded data removed]",
      "text/plain": [
       "<Figure size 1080x720 with 1 Axes>"
      ]
     },
     "metadata": {
      "needs_background": "light"
     },
     "output_type": "display_data"
    }
   ],
   "source": [
    "plt.figure( figsize = (15,10) ); i = 0\n",
    "for enrg, pc in zip(energies, beamMom):    \n",
    "    plt.hist( [e[0]/pc for e in enrg], histtype = 'step', bins = 200, fill = False, edgecolor = VisualSpecs.myColors[i], linewidth = 2, label = '%s' %pc);\n",
    "    i += 1\n",
    "plt.yscale('log'); plt.grid(); plt.legend(); plt.xlim(-.05,.6); plt.ylim(1e1,1e7); plt.vlines(0.02, ymin = 0, ymax = 1e7, colors = 'r', linestyles = '--'); \n",
    "plt.xlabel('$E_\\\\gamma/E_b$'); plt.ylabel('entries/bin'); plt.title('energy spectrum scattered photons');\n",
    "# plt.savefig( plotPath + 'thrmlPht_spctrAllE.pdf', dpi = 100 );"
   ]
  },
  {
   "cell_type": "code",
   "execution_count": 11,
   "metadata": {},
   "outputs": [
    {
     "name": "stdout",
     "output_type": "stream",
     "text": [
      " -------- particles falling into accpetance -------- \n",
      "0.18904430000000005\n",
      "0.3476783\n",
      "0.4659303\n",
      "0.5792784\n",
      " --------------------------------------------------- \n"
     ]
    }
   ],
   "source": [
    "keepE = []\n",
    "for enrg, pc in zip(energies, beamMom): \n",
    "    frac = [e[0] for e in enrg if e[0]/pc < 0.02]\n",
    "    keepE.append(frac)\n",
    "#     if enrg[0]/pc <= 0.02: keepE.append(enrg[0])\n",
    "#     else: pass\n",
    "print(' -------- particles falling into accpetance -------- ')\n",
    "for lis in keepE: print( 1 - len(lis)/stats )\n",
    "print(' --------------------------------------------------- ')"
   ]
  },
  {
   "cell_type": "code",
   "execution_count": 40,
   "metadata": {
    "scrolled": false
   },
   "outputs": [],
   "source": [
    "## testbed for compton generator to return w_mean\n",
    "##\n",
    "N = int32(1e1)\n",
    "from Generators import genPlanck\n",
    "from numpy import random, sum\n",
    "k = 8.617e-5 # given in [eV/K]\n",
    "\n",
    "values = genPlanck(N)\n",
    "testE = k*T*values/1e9"
   ]
  },
  {
   "cell_type": "code",
   "execution_count": 62,
   "metadata": {},
   "outputs": [
    {
     "name": "stdout",
     "output_type": "stream",
     "text": [
      "90.3 µs ± 325 ns per loop (mean ± std. dev. of 7 runs, 10000 loops each)\n",
      "190 ns ± 2.3 ns per loop (mean ± std. dev. of 7 runs, 10000000 loops each)\n"
     ]
    }
   ],
   "source": [
    "# def cmpt(x, m0, k):\n",
    "#         return (1 + x**2 + m0/(m0 + k*(1-x)) + (m0 + k*(1-x))/m0 - 2)*(m0/(m0 + k*(1-x)))**2\n",
    "\n",
    "# def genCompt( energ, m0, verbose = 0 ):\n",
    "#     vls = []; stp = 0; counter = 0\n",
    "#     while stp < 1:\n",
    "#         counter += 1\n",
    "#         cost = random.uniform(-1,1)\n",
    "#         r2 = random.uniform(0,1)\n",
    "\n",
    "#         if cmpt( cost, m0, energ ) > 2*r2:\n",
    "#             if verbose: print('accept cost =', cost, 'at energy =', energ)\n",
    "#             vls.append( cost )\n",
    "#             stp += 1\n",
    "\n",
    "#     return cost\n",
    "from Generators import genCompt\n",
    "from numpy import array, asarray\n",
    "numbers = asarray(range(0,int(1e3),1))\n",
    "%timeit squares = [i*i for i in numbers]\n",
    "%timeit squares = map(lambda x:x*x,numbers)\n",
    "\n",
    "# cost = [ genCompt( E, m0 )[0] for E in testE ]\n",
    "# count = [ genCompt( E, m0 )[1] for E in testE ]\n",
    "# cost = []; j = 0; overall = 0\n",
    "# for E in testE:\n",
    "# #     print( 'Run', j )\n",
    "#     cmpt = genCompt(E, m0, verbose = 0)\n",
    "#     cost.append(cmpt[0])\n",
    "#     overall += cmpt[1]\n",
    "# #     print(cmpt)\n",
    "#     j += 1\n",
    "# print(count,sum(count))\n",
    "\n",
    "# plt.hist(newlist, bins = 100);\n"
   ]
  },
  {
   "cell_type": "markdown",
   "metadata": {},
   "source": [
    "### 0.2 Rotate the beam in z direction\n",
    "Assuming a general vector can be represented as $$ \\mathbf{r} = \\begin{bmatrix} \\sin\\theta\\cos\\phi \\\\ \\sin\\theta\\sin\\phi \\\\ \\cos\\theta \\end{bmatrix}, $$ allows to reconstruct the angles $\\theta$ and $\\phi$ according to $$ \\begin{align} \\cos\\theta &= r_z \\\\ \\cos\\phi &= \\frac{r_x}{\\sin\\theta} \\\\ \\sin\\phi &= \\frac{r_y}{\\sin\\theta} \\end{align}. $$ \n",
    "Where $\\sin\\theta = \\sqrt{1 - \\cos^2\\theta} $. Using these angles, `RotToZ` is applied on the incoming electron and the photon as well (aka rotation of reference system)."
   ]
  },
  {
   "cell_type": "code",
   "execution_count": null,
   "metadata": {},
   "outputs": [],
   "source": [
    "angles_qe = np.array( [getRotVec3(vec) for vec in p_e] )\n",
    "\n",
    "qe_in_z = np.array([RotToZ(ang[0], ang[1]) @ vec for vec,ang in zip(qe_in,angles_qe)])\n",
    "\n",
    "# some visualization\n",
    "#\n",
    "axs = Tls.sbplSetUp(4)\n",
    "for j in range(0,4):\n",
    "    axs[j].hist([mom[j] for mom in qe_in_z], bins = 100)\n",
    "    axs[j].set_xlabel(labels[j])\n",
    "plt.tight_layout()"
   ]
  },
  {
   "cell_type": "markdown",
   "metadata": {},
   "source": [
    "### 0.2 Generate the Planck Spectrum\n",
    "Photon energies for inverse Compton scattering are generated following the Plack spectrum. Approximate the distribution $$ \\frac{x^2}{e^x - 1} $$ with three separate, simple and invertible functions, \n",
    "$$ \\begin{align} f_1(x) &= x \\\\ f_2(x) &= c \\\\ f_3(x) &= e^{a + b*x} \\end{align}. $$\n",
    "These are applied on three intervals, $$ \\begin{align} 0 &\\rightarrow x_1 \\\\ x_1 &\\rightarrow x_2 \\\\ x_2 &\\rightarrow \\infty \\end{align}. $$\n",
    "In order to distinguish the intervals, probablilites such as $P_{12} = \\frac{I_1}{I_1 + I_2 + I_3}$ and $P_{23} = \\frac{I_1 + I_2}{I_1 + I_2 + I_3}$are used, with the integrals $$ \\begin{align} I_1 &= \\int_0^c dx x \\\\ I_2 &= \\int_c^d dx c \\\\ I_3 &= \\int_d^\\infty dx e^{a + bx} \\end{align} $$\n",
    "\n",
    "Constants a,b and c are known (ref) to be 1.266, -0.6 and 0.648, respectively. d is chosen such that $d = \\frac{log(c) -a }{b}.$ \n",
    "In order to cover the whole interval, a mapping is used on a given random value $r$ (generated on 0,1) out to infinity, using a log: $$ x_1\\sqrt{r} \\\\ x_1 + (x_2 - x_1)r \\\\ x_2 + log(r)/b$$\n",
    "\n"
   ]
  },
  {
   "cell_type": "code",
   "execution_count": null,
   "metadata": {
    "scrolled": false
   },
   "outputs": [],
   "source": [
    "# axs = Tls.sbplSetUp(4, [20,15])\n",
    "\n",
    "# # define some constants\n",
    "# k = 8.617e-5 # given in eV/K\n",
    "# TempRange = [200, 300, 400, 500]\n",
    "# c = .648; a = 1.266; b = -.6\n",
    "\n",
    "# def f(x):\n",
    "#     return x**2/(np.exp(x) - 1)\n",
    "# def dnP(x):\n",
    "#     return x**2/(np.exp(x) - 1)\n",
    "\n",
    "# def f1(x):\n",
    "#     return x\n",
    "# def f2():\n",
    "#     return c\n",
    "# def f3(x):\n",
    "#     return np.exp(a + b*x)\n",
    "\n",
    "# def genPlanck( stats, a, b, c):\n",
    "    \n",
    "#     # define interval boundaries\n",
    "#     x1 = c; x2 = (np.log(c) - a)/b; xDiff = x2 - x1\n",
    "\n",
    "#     # basically solutions to the integrals I_1 to I_3\n",
    "#     p1 = x1*x1/2; p2 = x1*xDiff; p3 = -1/b*np.exp(a + b*x2)\n",
    "#     P12 = p1/(p1+p2+p3); P23 = (p1+p2)/(p1+p2+p3)\n",
    "\n",
    "#     values = []; i = 0\n",
    "#     while i < stats:\n",
    "\n",
    "#         # generate a couple of random numbers on (0,1)\n",
    "#         r1 = np.random.uniform(0,1)\n",
    "#         r2 = np.random.uniform(0,1)\n",
    "#         r3 = np.random.uniform(0,1)\n",
    "\n",
    "\n",
    "#         # choose which function to use, based on interval\n",
    "#         if r1 < P12: \n",
    "#             w = x1*np.sqrt(r2)\n",
    "#             if w > (np.exp(w) - 1)*r3: \n",
    "#                 values.append(w)\n",
    "#                 i += 1 \n",
    "#         elif r1 < P23: \n",
    "#             w = x1 + xDiff*r2\n",
    "#             if w**2 > x1*(np.exp(w) - 1)*r3: \n",
    "#                 values.append(w)\n",
    "#                 i += 1\n",
    "#         else: \n",
    "#             w = x2 + np.log(r2)/b\n",
    "#             if w**2 > (np.exp(w) - 1)*np.exp(a + b*w)*r3: \n",
    "#                 values.append(w)\n",
    "#                 i += 1\n",
    "        \n",
    "#     return values\n",
    "\n",
    "    \n",
    "# xrange = np.arange(0,10, .1)\n",
    "# intrvl1 = np.arange(0,c,.1)\n",
    "# intrvl3 = np.arange((np.log(c) - a)/b, 10, .1)\n",
    "\n",
    "# axs[0].plot(xrange, f(xrange)); axs[0].set_title('f(x)')\n",
    "\n",
    "# axs[1].plot(xrange, f(xrange)/f1(xrange), color = 'r', ls = '--', label = 'f1')\n",
    "# axs[1].plot(xrange, f(xrange)/f2(), color = 'g', ls = '--', label = 'f2')\n",
    "# axs[1].plot(xrange, f(xrange)/f3(xrange), color = 'k', ls = '--', label = 'f3')\n",
    "# axs[1].legend(); axs[1].set_title('ratio f(x)/f_i(x)')\n",
    "\n",
    "# photEnrg = genPlanck( stats, a, b, c)\n",
    "# axs[2].hist( photEnrg, bins = 100 );\n",
    "\n",
    "# axs[0].plot(intrvl1, f1(intrvl1), color = 'r', ls = '--')\n",
    "# axs[0].hlines(c, c, (np.log(c) - a)/b, colors = 'r', linestyles = '--')\n",
    "# axs[0].plot(intrvl3, f3(intrvl3), color = 'r', ls = '--');\n",
    "\n",
    "# for temp in TempRange:\n",
    "#     energ = [ k*temp*val for val in photEnrg]\n",
    "#     axs[3].hist( energ, bins = 100, label = '%i' %temp)\n",
    "# axs[3].legend();\n",
    "# print(len(photEnrg))"
   ]
  },
  {
   "cell_type": "markdown",
   "metadata": {},
   "source": [
    "### 0.3 Initial Photon Energies\n",
    "With the generator established above, photon energies can be generated by multiplication with $kT$. Assuming a temperature of $23^\\circ$C, the distribution has a mean around 0.7 eV, as expected for this temperature regime. "
   ]
  },
  {
   "cell_type": "code",
   "execution_count": null,
   "metadata": {},
   "outputs": [],
   "source": [
    "# provide the energies for the photons\n",
    "values = genPlanck(stats)\n",
    "Ei = k*T*values/1e9 \n",
    "# plt.figure( figsize = (15,10) )\n",
    "# plt.hist( Ei, bins = 400 );\n",
    "# plt.xlabel('$E_\\\\gamma$ [GeV]'); plt.ylabel('photons/bin'); plt.savefig( plotPath + 'planck_spectrum.pdf', dpi = 100 )\n",
    "# print(len(Ei), Ei)"
   ]
  },
  {
   "cell_type": "markdown",
   "metadata": {},
   "source": [
    "### 0.4 Generate initial photon four momentum\n",
    "The photon energies should follow the distribution of the Planck spectrum for black body radiation:\n",
    "$$ dn_P = \\frac{\\epsilon^2d\\epsilon}{\\pi^2(c\\hbar)^3\\left(e^{\\frac{\\epsilon}{k_BT}} - 1\\right)} $$\n",
    "\n",
    "This distribution will be used with a temperature of $T \\approx 300 K$ (given the experience from LEP). With a given density $\\rho_\\gamma$, the average photon energy can be expressed as $E_\\gamma = 2.7kT\\approx0.069$ eV.\n",
    "\n",
    "The photon 4-momentum is based on $E = pc \\equiv\\epsilon_i$ since the photon is massless. Hence, the momentum itself is given in $\\epsilon_i/c$. The four vector, on the other hand, can be written as $$ q_k = (\\epsilon_i, \\mathbf{p}) = \\begin{bmatrix} \\epsilon_i/c \\\\ \\epsilon_i v_x/c \\\\ \\epsilon_i v_y/c \\\\ \\epsilon_i v_z/c \\end{bmatrix} = \\begin{bmatrix} p^t \\\\ p^x \\\\ p^y \\\\ p^z \\end{bmatrix}$$\n",
    "Where $ v_x^2 + v_y^2 + v_z^2 = c^2 \\equiv 1$.\n",
    "\n",
    "Photons need to be generated based on the spectrum above, with random directions in space. Considering the spatial angle, $d\\Omega = d\\cos\\theta d\\phi$, generate $\\cos\\theta$ on $[-1.,1]$ and $\\phi$ on $[0,2\\pi]$. The four vector is established on spacial transformations using both angles: $$ x = \\sin\\theta\\cos\\phi \\\\ y = \\sin\\theta\\sin\\phi \\\\ z = \\cos\\theta $$\n",
    "which results in an isotropic distribution in space.\n",
    "\n"
   ]
  },
  {
   "cell_type": "code",
   "execution_count": null,
   "metadata": {
    "scrolled": false
   },
   "outputs": [],
   "source": [
    "# generate cosPsi, sinPsi and phi\n",
    "#\n",
    "CosPsi = np.array([np.random.uniform(-1,1) for i in range(int(stats))])\n",
    "SinPsi = np.array([np.sqrt(1 - cos**2) for cos in CosPsi])\n",
    "Phi = np.array([np.random.uniform(0,2*np.pi) for i in range(int(stats))])\n",
    "\n",
    "# construct incoming photon four momentum and roate by same amount as qp_e_in\n",
    "qk_in = np.array([np.array([val, val*np.cos(phi)*sinPsi, val*sinPsi*np.sin(phi), val*cosPsi ]) for val, sinPsi, cosPsi, phi in zip(Ei, SinPsi, CosPsi, Phi)])\n",
    "qk_in_z = np.array([ RotToZ(ang[0], ang[1]) @ qk for qk,ang in zip(qk_in, angles_qe)])\n",
    "qk2 = [ fourMom2(qkz) for qkz in qk_in_z ]\n",
    "# some visualization\n",
    "#\n",
    "# axs = Tls.sbplSetUp(4)\n",
    "# for j in range(4):\n",
    "#     axs[j].hist( [vec[j] for vec in qk_in], bins = 100 );\n",
    "# axs1 = Tls.sbplSetUp(4)\n",
    "# for j in range(4):\n",
    "#     axs1[j].hist( [vec[j] for vec in qk_in_z], bins = 100)\n",
    "# #print(qk_in, '\\n', qe_in_z, '\\n', qk_in_z)\n",
    "\n",
    "# plt.figure(); plt.plot( qk2 ); plt.xlabel('#'); plt.ylabel('$q_k^2$');"
   ]
  },
  {
   "cell_type": "markdown",
   "metadata": {},
   "source": [
    "## 1. Electron Rest Frame - 1st Boost\n",
    "Photon Energies need to transformed into the electron rest frame, using a Lorentz boost. The electron four momentum becomes $$ q_e^* = \\begin{bmatrix} m_0 \\\\ 0 \\\\ 0 \\\\ 0 \\end{bmatrix} $$\n",
    "\n",
    "As for the photon, a Lorentz boost in z direction can be expressed using the following matrix representation:\n",
    "$$ \\begin{bmatrix} \\gamma & 0 & 0 & -\\beta\\gamma \\\\ 0 & 1 & 0 & 0 \\\\  0 & 0 & 1 & 0 \\\\ -\\beta\\gamma & 0 & 0 & \\gamma \\end{bmatrix} $$\n",
    "Which results in the photon four-momentum as $$ q_k^* = \\begin{bmatrix} \\gamma(\\epsilon_i  - \\beta p_z) \\\\ p_x \\\\ p_y \\\\ \\gamma(p_z - \\beta\\epsilon_i)  \\end{bmatrix} $$\n",
    "A further assumption may be $\\beta\\approx1$.\n",
    "Lorentz invariants can be used for an internal check. These invariants are the mass $m$ and the four-momentum square $\\mathbf{p}^2$"
   ]
  },
  {
   "cell_type": "code",
   "execution_count": null,
   "metadata": {
    "scrolled": false
   },
   "outputs": [],
   "source": [
    "# photon four momenta given as phtMmtZ\n",
    "# define LT\n",
    "def Boost( gam, bet ):\n",
    "    return np.array( [ [gam, 0, 0, -beta*gam],\n",
    "                       [0, 1, 0, 0],\n",
    "                       [0, 0, 1, 0],\n",
    "                       [-beta*gam, 0, 0, gam] ] )\n",
    "\n",
    "# boost into e-rest frame\n",
    "qkstar = np.array( [Boost( gam, bet) @ qk for gam,bet,qk in zip(Gamm,Bet, qk_in_z) ] )\n",
    "pk_star = np.array( [np.array([vec[1], vec[2], vec[3]]) for vec in qkstar] )\n",
    "qestar = np.array( [Boost( gam, bet) @ qe for gam, bet, qe in zip(Gamm, Bet, qe_in_z) ] )\n",
    "\n",
    "qkst2 = [ fourMom2(qkst) for qkst in qkstar ]\n",
    "qest2 = [ fourMom2(qest) for qest in qestar ]\n",
    "pk_star\n",
    "angles_from_z = [getRotVec3(pk) for pk in pk_star]\n",
    "\n",
    "# some visualization\n",
    "#\n",
    "# axs = Tls.sbplSetUp(4, [10, 15])\n",
    "# for j in range(0,4):\n",
    "#     axs[j].hist( [vec[j] for vec in qkstar], bins = 100 ); \n",
    "#     axs[j].set_xlabel(labels[j])\n",
    "\n",
    "# axs1 = Tls.sbplSetUp(4, [10, 15])\n",
    "# for j in range(0,4):\n",
    "#     axs1[j].hist( [vec[j] for vec in qestar], bins = 100 );\n",
    "# # plt.tight_layout()\n",
    "# # print(len(qkstar))\n",
    "# #print(qk_in, '\\n', qk_in_z, '\\n', qkstar, '\\n ------------- \\n', qe_in, '\\n', qe_in_z, '\\n', qestar)\n",
    "\n",
    "# plt.figure()\n",
    "# plt.plot( qkst2, label = 'photon' )\n",
    "# plt.plot( qest2, label = 'electron' )\n",
    "# plt.xlabel('#'); plt.ylabel('$q^2$')\n",
    "# plt.legend();"
   ]
  },
  {
   "cell_type": "markdown",
   "metadata": {},
   "source": [
    "### Rotation of photon to z direction\n",
    "Every spatial momentum has to be rotated in +z direction since the photon is assumed to scatter with the electron on that axis. \n",
    "The rotation matrix governed by angles $\\theta$ and $\\phi$ is given as:\n",
    "$$ \\begin{pmatrix} 1 & 0 & 0 & 0 \\\\ 0 & \\cos\\theta\\cos\\phi & \\cos\\theta\\sin\\phi & -\\sin\\theta \\\\ 0 & -\\sin\\phi & \\cos\\phi & 0  \\\\ 0 & \\cos\\phi\\sin\\theta & \\sin\\theta\\sin\\phi & \\cos\\theta \\end{pmatrix} $$"
   ]
  },
  {
   "cell_type": "markdown",
   "metadata": {},
   "source": [
    "## 2. Compton Cross Section\n",
    "Scattering between thermal photons and high energy electrons will result in an enegery loss of the electron. The photon will emerge with higher energy $\\epsilon^f$ from the scattering. The process involves the angle $\\psi$ between incoming electron and photon."
   ]
  },
  {
   "cell_type": "markdown",
   "metadata": {},
   "source": [
    "### 2.1 Generate $1 + \\cos^2\\theta$\n",
    "To generate scattering angles $\\theta$ following the Thomson cross section $$\\frac{d\\sigma_T}{d\\Omega} = \\frac{r^2_e}{2}\\left(1 + \\cos^2\\theta\\right)$$ on an interval of $\\pm\\pi$.\n",
    "Assuming a very simple funtion, the maximum of $1 + \\cos^2\\theta$ (which is 2) and keep only that fraction of event which match the condition. The condition itself, the limit, needs to be randomized as well with a second random number."
   ]
  },
  {
   "cell_type": "code",
   "execution_count": null,
   "metadata": {
    "scrolled": false
   },
   "outputs": [],
   "source": [
    "# axs = Tls.sbplSetUp(2, [15,20])\n",
    "# intrvl = np.arange(-1,1,.01)\n",
    "# def fct(x):\n",
    "#     return 1+x**2\n",
    "# axs[0].plot(intrvl, fct(intrvl));\n",
    "\n",
    "# x = 0; angles = [] \n",
    "# while x < stats:\n",
    "    \n",
    "#     cost = np.random.uniform(-1,1)\n",
    "#     r2 = np.random.uniform(0,1)\n",
    "        \n",
    "#     if fct(cost) > 2*r2:\n",
    "#         angles.append(cost)\n",
    "#         x += 1\n",
    "        \n",
    "# axs[1].hist(angles, bins = 100);\n",
    "# axs[0].set_ylim(0,2);\n",
    "# print(len(angles))"
   ]
  },
  {
   "cell_type": "markdown",
   "metadata": {},
   "source": [
    "### 2.2 The Compton Distribution\n",
    "In order to correct for the effect Thomson vs. Compton according to \n",
    "$$ \\frac{d\\sigma}{d\\Omega} \\propto \\left(1 + \\cos^2\\theta + x + 1/x -2\\right)x^2. $$\n",
    "from the above spectrum, a few events need to be rejected.\n",
    "\n",
    "Reshaping $\\frac{d\\sigma}{d\\Omega}$ using $$ x = \\frac{1}{1 + \\frac{k}{m_e}(1 - \\cos\\theta)} = \\frac{m_e}{m_e + k(1 - \\cos\\theta)}$$ leads to \n",
    "$$ \\frac{d\\sigma}{d\\Omega} \\propto \\left(1 + \\cos^2\\theta + \\frac{m_e}{m_e + k(1 - \\cos\\theta)} + \\frac{m_e + k(1 - \\cos\\theta)}{m_e} -2\\right)\\left(\\frac{m_e}{m_e + k(1 - \\cos\\theta)}\\right)^2. $$"
   ]
  },
  {
   "cell_type": "code",
   "execution_count": null,
   "metadata": {
    "scrolled": false
   },
   "outputs": [],
   "source": [
    "# enrgRng = [0.02e-9, .60e-6, 2e-5, 511e-6, 1.46e-3]\n",
    "# axs = Tls.sbplSetUp(2, [20,15])\n",
    "\n",
    "# def cmpt(x,k):\n",
    "#     return (1 + x**2 + m0/(m0 + k*(1-x)) + (m0 + k*(1-x))/m0 - 2)*(m0/(m0 + k*(1-x)))**2\n",
    "\n",
    "# def ComptSct( energ, verbose = 0 ):\n",
    "#     stp = 0; \n",
    "#     while stp < 1:\n",
    "#         cost = np.random.uniform(-1,1)\n",
    "#         r2 = np.random.uniform(0,1)\n",
    "\n",
    "#         if cmpt( cost, energ ) > 2*r2:\n",
    "#             if verbose: print('accept cost =', cost, 'at energy =', energ)\n",
    "#             stp += 1\n",
    "#             return cost\n",
    "    \n",
    "# rnge = np.arange(-1,1,.01)\n",
    "# i = 0\n",
    "# for enrg in enrgRng:\n",
    "#     axs[0].plot(rnge, cmpt(rnge,enrg), label = '%s' %enrg, color = VisualSpecs.myColors[i] )\n",
    "#     axs[0].legend()\n",
    "    \n",
    "#     i += 1\n",
    "# axs[0].set_xlabel('$\\\\cos\\\\theta$'); axs[0].set_title('$d\\sigma_C/d\\omega$')\n",
    "# axs[0].set_ylabel('')\n",
    "\n",
    "# # generate the cross section via MC \n",
    "# distr = [] \n",
    "# for k in enrgRng:\n",
    "#     x = 0; vls = [];\n",
    "#     while x < stats:\n",
    "#         cost = np.random.uniform(-1,1)\n",
    "#         r2 = np.random.uniform(0,1)\n",
    "#         if cmpt(cost, k) > 2*r2:\n",
    "#             vls.append(cost)\n",
    "#             x += 1\n",
    "#     distr.append(vls)\n",
    "# i = 0\n",
    "# for distrib in distr:\n",
    "#     axs[1].hist( distrib, bins = 100, color = VisualSpecs.myColors[i] );\n",
    "#     print(len(distrib))\n",
    "#     i += 1"
   ]
  },
  {
   "cell_type": "markdown",
   "metadata": {},
   "source": [
    "## 3. Scattered Photon Energy\n",
    "The scattered photon has an energy of $\\epsilon_f^* = \\gamma\\epsilon_i(1 - \\beta\\cos\\theta)$ in the electron rest frame (assumed after the first Lorentz boost). The photon four-momentum after the Lorentz boost into this frame (denoted by \\*) is given by $$ q_k^* = \\begin{bmatrix} \\epsilon_i\\gamma(1  - \\beta v_x/c) \\\\ \\epsilon_i\\gamma( v_x/c - \\beta) \\\\ \\epsilon_iv_y/c \\\\ \\epsilon_iv_z/c \\end{bmatrix} $$\n",
    "Hence, the energy before scattering can be derived as $ \\epsilon_i\\gamma(1  - \\beta v_x/c) $.\n",
    "Using the method developed above, generating $\\cos\\theta$ and therefore calculating the energy of the scattered photon, still assuming $\\beta=1$, is possible.\n",
    "\n",
    "The incoming photon with energy $\\epsilon_i^*$ (after boost to electron rest system) will scatter and the energy changes according to $$ x = \\frac{\\epsilon_f^*}{\\epsilon_i^*} = \\frac{m_e}{m_e + \\epsilon_i^*(1 - \\cos\\theta)}$$"
   ]
  },
  {
   "cell_type": "code",
   "execution_count": null,
   "metadata": {
    "scrolled": false
   },
   "outputs": [],
   "source": [
    "# boosted photon 4-momentum in qkstar, generate cost based on photon energy\n",
    "cost = [ genCompt( qkst[0], m0 ) for qkst in qkstar ]\n",
    "sint = [ np.sqrt(1 - cos**2) for cos in cost]\n",
    "phi = [ np.random.uniform(0,2*np.pi) for i in range(int(stats))]\n",
    "\n",
    "def kratio(k, cost):\n",
    "    return m0/(m0 + k*(1 - cost))\n",
    "\n",
    "# photon energy after scattering\n",
    "krat = np.array( [kratio(qkst[0], costhet) for qkst, costhet in zip(qkstar, cost)] )\n",
    "kstar = [ qkst[0]*kratio(qkst[0],costhet) for qkst,costhet in zip(qkstar,cost) ]\n",
    "\n",
    "# photon four momentum after scattering\n",
    "qkstar_sct_z = np.array( [ np.array([kst, kst*sinthet*np.cos(Phi), kst*sinthet*np.sin(Phi), kst*costhet]) for kst,sinthet,costhet,Phi in zip(kstar, sint, cost, phi)] )\n",
    "qkstsct2 = [ fourMom2(qkstsct) for qkstsct in qkstar_sct_z ]\n",
    "# some visualization\n",
    "#\n",
    "# axs = Tls.sbplSetUp(4)\n",
    "# axs[0].hist( kstar, bins = 200); print(len(kstar)); axs[0].set_xlabel('$E$')\n",
    "# axs[2].hist( cost, bins = 200); axs[2].set_xlabel('$cos\\\\theta$')\n",
    "# axs[3].hist( krat, bins = 200 ); axs[3].set_xlabel('k\\'/k')\n",
    "\n",
    "# axs1 = Tls.sbplSetUp(4)\n",
    "# for j in range(4):\n",
    "#     axs1[j].hist( [qkst[j] for qkst in qkstar_sct_z], bins = 200)\n",
    "#     axs1[j].set_xlabel(labels[j])\n",
    "\n",
    "# plt.tight_layout()\n",
    "\n",
    "# plt.figure(); plt.plot( qkstsct2 ); plt.ylabel('$q_k^2$'); plt.xlabel('#');"
   ]
  },
  {
   "cell_type": "markdown",
   "metadata": {},
   "source": [
    "## 4. Lorentz Boost Scattered Photon\n",
    "As the Lorentz boost matrices are orthogonal, the inverse boost can be represented by the transposed matrix:\n",
    "$$ \\begin{bmatrix} \\gamma & 0 & 0 & -\\beta\\gamma \\\\ 0 & 1 & 0 & 0 \\\\  0 & 0 & 1 & 0 \\\\ -\\beta\\gamma & 0 & 0 & \\gamma \\end{bmatrix} $$ Which is the same as the orignal matrix. "
   ]
  },
  {
   "cell_type": "code",
   "execution_count": null,
   "metadata": {
    "scrolled": false
   },
   "outputs": [],
   "source": [
    "# First, rotate back from z\n",
    "qkstar_sct = np.array( [RotFrmZ( ang[0], ang[1] ) @ qkstz for ang,qkstz in zip(angles_from_z, qkstar_sct_z)] )\n",
    "\n",
    "# then, boost back to LAB\n",
    "qk_out_z = np.array( np.array([ Boost( gam, bet ) @ qksctz for gam,bet,qksctz in zip(Gamm, Bet, qkstar_sct)]) )\n",
    "qk_out_z2 = np.array( [ fourMom2(qkoutz) for qkoutz in qk_out_z ] )\n",
    "# some visualization\n",
    "#\n",
    "# axs = Tls.sbplSetUp(4)\n",
    "# for j in range(4):\n",
    "#     axs[j].hist( [vec[j] for vec in qk_out_z], bins = 100 )\n",
    "# print(len(qk_out_z),len(qkstar_sct)); plt.xlabel('$\\epsilon^f_\\\\gamma$ [GeV]');\n",
    "\n",
    "# plt.figure()\n",
    "# plt.plot(qk_out_z2);"
   ]
  },
  {
   "cell_type": "markdown",
   "metadata": {},
   "source": [
    "## 5. Energy of Scattered Electrons\n",
    "Derived by using energy conservation. Energy and momentum are conserved during the scattering process, basically:\n",
    "$$ p_\\gamma^i + p_e^i = p_\\gamma^f + p_e^f $$"
   ]
  },
  {
   "cell_type": "code",
   "execution_count": null,
   "metadata": {},
   "outputs": [],
   "source": [
    "# axs = Tls.sbplSetUp(2, [10,15])\n",
    "# qe_out_z = np.array([[(qpei[0] + qki[0] - qkf[0]), (qpei[0] + qki[0] - qkf[0])] for qpei, qki, qkf in zip(qe_in,qk_in_z,qk_out_z)])\n",
    "qe_out_z = qe_in + qk_in - qk_out_z \n",
    "# axs[0].hist(qe_out_z, bins = 100); plt.yscale('log')\n",
    "qe_out_z"
   ]
  },
  {
   "cell_type": "code",
   "execution_count": null,
   "metadata": {},
   "outputs": [],
   "source": [
    "plt.figure( figsize = (15,10) )\n",
    "plt.hist( [qkf[0]/pc for qkf in qk_out_z], histtype = 'step', bins = 200, fill = False, edgecolor = 'b', linewidth = 2 );\n",
    "plt.yscale('log'); plt.xlim(0, .7); plt.grid()\n",
    "plt.savefig( plotPath + 'thrmlPht_spctr1825.pdf', dpi = 100 )"
   ]
  }
 ],
 "metadata": {
  "kernelspec": {
   "display_name": "Python 3",
   "language": "python",
   "name": "python3"
  },
  "language_info": {
   "codemirror_mode": {
    "name": "ipython",
    "version": 3
   },
   "file_extension": ".py",
   "mimetype": "text/x-python",
   "name": "python",
   "nbconvert_exporter": "python",
   "pygments_lexer": "ipython3",
   "version": "3.7.3"
  }
 },
 "nbformat": 4,
 "nbformat_minor": 2
}
