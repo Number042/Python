{
 "cells": [
  {
   "cell_type": "markdown",
   "metadata": {},
   "source": [
    "# Touschek Effect in FCC-ee"
   ]
  },
  {
   "cell_type": "code",
   "execution_count": 4,
   "metadata": {},
   "outputs": [
    {
     "name": "stdout",
     "output_type": "stream",
     "text": [
      " --- constants: \n",
      " 1.38064852e-23 1.0545718001391127e-34 0.0072973525664 3.141592653589793 299792458.0\n",
      "/home/nikita/Python/FCCee-Synchrotron-Radiation/source\n"
     ]
    },
    {
     "data": {
      "text/html": [
       "<style>.container { width:100% !important; }</style>"
      ],
      "text/plain": [
       "<IPython.core.display.HTML object>"
      ]
     },
     "metadata": {},
     "output_type": "display_data"
    },
    {
     "name": "stdout",
     "output_type": "stream",
     "text": [
      "---- Beam Parameters b1 ---- \n",
      "  Beam energy = 182.5 with 48 bunches/beam with population of 230000000000.0 particles \n",
      " bunch length (SR) = 0.00197 m \n",
      " emittance x,y = 1.46e-09 2.9e-12 m \n",
      " Brho = 608.7594649588045 \n",
      " Lorentz gamma = 357142.85714285716 \n",
      " ----------------------------- \n",
      " Add column 'rel_S' -- S position shifted with IP in the center. Using Lmax =  97756.06428319066\n"
     ]
    }
   ],
   "source": [
    "# import general libs (probably not required)\n",
    "#\n",
    "import matplotlib as mpl\n",
    "import matplotlib.pyplot as plt \n",
    "from numpy import log, log10, log2, sqrt, pi, arccos, arange\n",
    "import pandas as pd\n",
    "from os.path import expanduser\n",
    "from IPython.core.display import display, HTML\n",
    "from scipy.constants import k, hbar, alpha, pi, speed_of_light, elementary_charge, m_e, physical_constants, N_A\n",
    "print( \" --- constants: \\n\", k, hbar, alpha, pi, speed_of_light)\n",
    "# change to source dir to import specific stuff\n",
    "#\n",
    "%cd ~/Python/FCCee-Synchrotron-Radiation/source/\n",
    "import VisualSpecs\n",
    "from TfsTables import TfsReader, PlotOptics \n",
    "from DF_Tools import OutputToDF\n",
    "from Input import checkRing\n",
    "from Tools import sbplSetUp\n",
    "\n",
    "\n",
    "# temporarily disable the SetCopies warning:\n",
    "# pd.options.mode.chained_assignment = None\n",
    "\n",
    "# %reload_ext autoreload\n",
    "\n",
    "# %aimport TfsTables, Input, OpticsSelectTools, Plot, PlotSetup\n",
    "\n",
    "# %autoreload 1\n",
    "%matplotlib inline\n",
    "\n",
    "home = expanduser(\"~\")\n",
    "plotpath = \"/tmp/\"\n",
    "\n",
    "display(HTML(\"<style>.container { width:100% !important; }</style>\"))\n",
    "\n",
    "# declare the constants (also machine)\n",
    "#\n",
    "r_e = physical_constants['classical electron radius'][0]\n",
    "# beam energy [GeV]\n",
    "E0 = 182.5\n",
    "if E0 == 45.6:\n",
    "    Nbun = 16640; Np = 1.7e11\n",
    "    sigZ = 3.5e-3\n",
    "    epsX = .27e-9; epsY = 1e-12\n",
    "elif E0 == 182.5:\n",
    "    Nbun = 48; Np = 2.3e11\n",
    "    sigZ = 1.97e-3\n",
    "    epsX = 1.46e-9; epsY = 2.9e-12\n",
    "Lrnt = E0/511e-6\n",
    "brho = 10*E0/2.9979\n",
    "particle = \"positron\"\n",
    "\n",
    "print(\"---- Beam Parameters b1 ---- \\n\", \" Beam energy =\", E0, 'with', Nbun, 'bunches/beam with population of', Np, 'particles \\n', 'bunch length (SR) =', sigZ, \"m\",\n",
    "      \"\\n emittance x,y =\", epsX, epsY, \"m\",\n",
    "      \"\\n Brho =\", brho, \"\\n Lorentz gamma =\", Lrnt, \n",
    "     \"\\n ----------------------------- \" )\n",
    "\n",
    "b1 = TfsReader( home + '/Codes/Projects/FCC-ee-lattice/MadX/output/' + str(E0) + '/fcc_ee_b1_twiss.tfs' ).read_twiss( verbose = 0, relS = 1) "
   ]
  },
  {
   "cell_type": "markdown",
   "metadata": {},
   "source": [
    "## Introduction: Da$\\Phi$ne"
   ]
  },
  {
   "cell_type": "markdown",
   "metadata": {},
   "source": [
    "### Basic Theory\n",
    "B-factory with LER (4 GeV), HER (7 GeV) setup. \n",
    "Touschek lifetime estimate based on the loss rate as below:\n",
    "$$ \\begin{equation} \\frac{1}{N}\\frac{dN}{dt} = \\frac{1}{\\tau} = \\frac{Nr_0^2c}{8\\pi\\sigma_x\\sigma_y\\sigma_s}\\frac{\\lambda^3}{\\gamma^2}D(\\xi). \\end{equation} $$\n",
    "$\\lambda$ is the momentum acceptance, $\\sigma_i$ comprises beam sizes (all three dimensions), further we have the Lorentz factor $\\gamma$ and $$ \\xi = \\left( \\frac{\\Delta E/E}{\\gamma} \\right)^2\\frac{\\beta_x}{\\epsilon_x}$$\n",
    "$D(\\xi)$ has been approximated with $$ \\sqrt{\\xi}\\left( \\ln\\left( \\frac{1}{1.78\\xi} \\right) - \\frac{3}{2} \\right)$$ for $\\xi$ < 0.01.\n",
    "For the HER, machine parameters are listed as\n",
    "* $E_0$ = 7 GeV\n",
    "* $\\sigma_S$ = 6 mm\n",
    "* $\\Delta E/E$ = 0.1 %\n",
    "* $\\epsilon_x$ = 1.6 nm\n",
    "* $\\epsilon_y$ = 4 pm\n",
    "* $\\beta_x$ = 10 m\n",
    "* $\\beta_y$ = 22 m\n",
    "\n",
    "Where the values for $\\beta_{x,y}$ are an average. As for the RF system on the HER, with a total RF voltage of 15 MV, and energy loss/turn of 3.3 MeV the voltage factor would be $$ \\begin{align} q &= \\frac{eV_{RF}}{U_0} = \\frac{15}{3.3}. \\end{align} $$\n",
    "\n",
    "Baseline functions are implemented below, as defined above. "
   ]
  },
  {
   "cell_type": "code",
   "execution_count": 12,
   "metadata": {},
   "outputs": [],
   "source": [
    "# loss rate as defined above\n",
    "#\n",
    "def TshkRate(N, sigmX, sigmY, sigmS, lam, xi):\n",
    "    return N*r_e**2*speed_of_light/(8*pi*sigmX*sigmY*sigmS)*lam**3/Lorentz**2*D(xi)\n",
    "\n",
    "# factor xi as above\n",
    "#\n",
    "def xi(betX, epsX):\n",
    "    return (deltE/Lorentz)**2*betX/epsX\n",
    "\n",
    "# approximation for D(xi)\n",
    "#\n",
    "def D(dE):\n",
    "    xi = (dE/Lorentz)**2*betx/epsX\n",
    "    return sqrt(xi)*(log(1/(1.78*xi)) - 3/2)\n",
    "    \n",
    "\n",
    "def F(q):\n",
    "    return 2*( sqrt(q**2 - 1) - arccos(1/q) )\n",
    "\n",
    "def lamRF(V0, E0, q):\n",
    "    return sqrt(V0/(pi*eta*h*E0)*F(q))\n"
   ]
  },
  {
   "cell_type": "markdown",
   "metadata": {},
   "source": [
    "### Machine Acceptance and RF parameters\n",
    "The total machine acceptance in $\\Delta p/p$ is the lesser one out of RF ($\\lambda_{RF}$) and lattice acceptance, where $$ \\lambda_{RF} = \\sqrt{ \\frac{V_0}{\\pi|\\eta|hE_0}F(q) }.$$\n",
    "$q$ is the voltage factor $eV_{RF}/V_0$, basically describing maximum energy gain in the cavity over RF voltage. The function F(q) is displayed below for a certain range in q."
   ]
  },
  {
   "cell_type": "code",
   "execution_count": 21,
   "metadata": {},
   "outputs": [
    {
     "data": {
      "text/plain": [
       "[<matplotlib.lines.Line2D at 0x7f1446667250>]"
      ]
     },
     "execution_count": 21,
     "metadata": {},
     "output_type": "execute_result"
    },
    {
     "data": {
      "image/png": "[encoded data removed]",
      "text/plain": [
       "<Figure size 432x288 with 1 Axes>"
      ]
     },
     "metadata": {
      "needs_background": "light"
     },
     "output_type": "display_data"
    }
   ],
   "source": [
    "# xiRange = arange(10e-4, 10e-3, 1e-4)\n",
    "dERange = arange(1e-35,1.5e-2,1e-4)\n",
    "plt.plot( dERange, D(dERange))"
   ]
  },
  {
   "cell_type": "code",
   "execution_count": 11,
   "metadata": {},
   "outputs": [
    {
     "name": "stderr",
     "output_type": "stream",
     "text": [
      "/usr/lib/python3.7/site-packages/ipykernel_launcher.py:19: RuntimeWarning: invalid value encountered in sqrt\n",
      "/usr/lib/python3.7/site-packages/ipykernel_launcher.py:19: RuntimeWarning: invalid value encountered in arccos\n"
     ]
    },
    {
     "data": {
      "image/png": "[encoded data removed]",
      "text/plain": [
       "<Figure size 1080x720 with 2 Axes>"
      ]
     },
     "metadata": {
      "needs_background": "light"
     },
     "output_type": "display_data"
    }
   ],
   "source": [
    "xrange = arange(1e-18, 50, .2)\n",
    "axs = sbplSetUp(2)\n",
    "axs[0].plot( xrange, F(xrange))\n",
    "axs[0].set_yscale('log'); axs[0].set_xlabel('q'); axs[0].set_ylabel('$F(q)$')\n",
    "\n",
    "axs[0].axvline( x = 15/3.3, ls = '--', color = 'red')\n",
    "axs[0].grid(); axs[0].set_title('F(q) for certain range in q');"
   ]
  },
  {
   "cell_type": "markdown",
   "metadata": {},
   "source": [
    "### Evaluation for the HER\n",
    "First, design parameters are implemented and derived quantities calculated (as necessary/possible). "
   ]
  },
  {
   "cell_type": "code",
   "execution_count": 14,
   "metadata": {},
   "outputs": [
    {
     "name": "stdout",
     "output_type": "stream",
     "text": [
      " ---- DAPHNE PARAMETER SET ---- \n",
      " E0 =  7 \n",
      " gamma = 13698.630136986303 \n",
      " eta = 0.00029999467099999996 \n",
      " gam_trns = 57.735026918962575 \n",
      " sigma_x = 0.00012649110640673518 \n",
      " sigma_y = 9.38083151964686e-06 \n",
      " xi = 0.33306249999999993 \n",
      " D(xi) = -6.50363019735192\n"
     ]
    }
   ],
   "source": [
    "# for daphne (HER, nom): \n",
    "#\n",
    "E0 = 7 # [GeV]\n",
    "deltE = 0.1\n",
    "Lorentz = E0/511e-6\n",
    "betx = 10; bety = 22 # avrg, [m]\n",
    "epsX = 1.6e-9 # [m]\n",
    "epsY = 4e-12 # [m]\n",
    "h = 3570\n",
    "fRF = 476e6 # [MHz]\n",
    "V0 = 15e6 # [V]\n",
    "dp = 9e-4\n",
    "alphP = 3e-4\n",
    "N = 3.52e10\n",
    "nB = 1733\n",
    "sigmX = sqrt(epsX*betx); sigmY = sqrt(epsY*bety); sigmS = 6e-3\n",
    "XI = xi(betx, epsX)\n",
    "eta = alphP - 1/Lorentz**2\n",
    "print( ' ---- DAPHNE PARAMETER SET ---- \\n', 'E0 = ', E0, '\\n gamma =', Lorentz, '\\n eta =', eta, '\\n gam_trns =', sqrt(1/alphP), '\\n sigma_x =', sigmX, '\\n sigma_y =', sigmY, '\\n xi =', XI, \n",
    "       '\\n D(xi) =', D(XI))"
   ]
  },
  {
   "cell_type": "markdown",
   "metadata": {},
   "source": [
    "#### Plot the Loss rate as fct. of $\\Delta E/E$ \n",
    "Shall help to check consistency of the underlying loss rate implementation."
   ]
  },
  {
   "cell_type": "code",
   "execution_count": 76,
   "metadata": {},
   "outputs": [
    {
     "data": {
      "text/plain": [
       "[<matplotlib.lines.Line2D at 0x7fca8db48a10>]"
      ]
     },
     "execution_count": 76,
     "metadata": {},
     "output_type": "execute_result"
    },
    {
     "data": {
      "image/png": "[encoded data removed]",
      "text/plain": [
       "<Figure size 432x288 with 1 Axes>"
      ]
     },
     "metadata": {
      "needs_background": "light"
     },
     "output_type": "display_data"
    }
   ],
   "source": [
    "# try to write loss rate as fct. of energy deviation\n",
    "#\n",
    "def TshkRateNew(accpt, dE):\n",
    "    return N*r_e**2*speed_of_light/(8*pi*sigmX*sigmY*sigmS)*1/accpt**3*1/Lorentz**2*D(dE)\n",
    "Erange = arange(-0.03,0.03, 0.001)\n",
    "plt.plot(Erange, 1/TshkRateNew(0.01, Erange))"
   ]
  },
  {
   "cell_type": "markdown",
   "metadata": {},
   "source": [
    "## FCC-ee\n",
    "As implemented in `MDISim`, the Touschek lifetime can be estimated using "
   ]
  },
  {
   "cell_type": "code",
   "execution_count": 5,
   "metadata": {},
   "outputs": [
    {
     "name": "stdout",
     "output_type": "stream",
     "text": [
      "59.880877463391386 100.06628420032716 \n",
      " 0.0002956790170041686 1.7035029327269995e-05\n"
     ]
    }
   ],
   "source": [
    "avgBetx = b1.BETX.mean(); sigmX = sqrt(avgBetx*epsX)\n",
    "avgBety = b1.BETY.mean(); sigmY = sqrt(avgBety*epsY)\n",
    "print(avgBetx, avgBety, '\\n', sigmX, sigmY)"
   ]
  }
 ],
 "metadata": {
  "kernelspec": {
   "display_name": "Python 3",
   "language": "python",
   "name": "python3"
  },
  "language_info": {
   "codemirror_mode": {
    "name": "ipython",
    "version": 3
   },
   "file_extension": ".py",
   "mimetype": "text/x-python",
   "name": "python",
   "nbconvert_exporter": "python",
   "pygments_lexer": "ipython3",
   "version": "3.7.4"
  }
 },
 "nbformat": 4,
 "nbformat_minor": 2
}
